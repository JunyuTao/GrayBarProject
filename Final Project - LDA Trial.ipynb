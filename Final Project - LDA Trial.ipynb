{
 "cells": [
  {
   "cell_type": "code",
   "execution_count": 23,
   "id": "caca2913",
   "metadata": {},
   "outputs": [],
   "source": [
    "# load pacakges\n",
    "import pandas as pd\n",
    "import numpy as np\n",
    "from sklearn.discriminant_analysis import LinearDiscriminantAnalysis\n",
    "from sklearn.linear_model import LogisticRegression\n",
    "from sklearn.metrics import accuracy_score\n",
    "import statsmodels.api as sm\n",
    "from sklearn.model_selection import train_test_split\n",
    "from sklearn.preprocessing import Normalizer"
   ]
  },
  {
   "cell_type": "code",
   "execution_count": 24,
   "id": "7b5eb543",
   "metadata": {},
   "outputs": [],
   "source": [
    "# Load data\n",
    "df = pd.read_csv('GB_Cleaned_dataset.csv')"
   ]
  },
  {
   "cell_type": "code",
   "execution_count": 25,
   "id": "9fdf0a29",
   "metadata": {},
   "outputs": [],
   "source": [
    "# Create the LDA model\n",
    "LDAmodel = LinearDiscriminantAnalysis()"
   ]
  },
  {
   "cell_type": "code",
   "execution_count": 26,
   "id": "1675a270",
   "metadata": {},
   "outputs": [
    {
     "data": {
      "text/plain": [
       "Index(['customer_number', 'Division', 'Customer_Type1', 'Customer_Type',\n",
       "       'YearMonth', 'Monthly_SKUs_Purchased', 'Monthly_Vendors_Purchased',\n",
       "       'Monthly_Number_of_Sales', 'Monthly_Last_Sales_Date',\n",
       "       'Monthly_First_Sales_Date', 'Monthly_Sales_Days', 'Monthly_Sum_Sales',\n",
       "       'Monthly_Gross_Margin', 'new_yearMonth', 'difference', 'churn',\n",
       "       'Backlog_Sales'],\n",
       "      dtype='object')"
      ]
     },
     "execution_count": 26,
     "metadata": {},
     "output_type": "execute_result"
    }
   ],
   "source": [
    "# Show variable/column names\n",
    "df.columns"
   ]
  },
  {
   "cell_type": "code",
   "execution_count": 27,
   "id": "82c3ed03",
   "metadata": {},
   "outputs": [],
   "source": [
    "# Define dataset\n",
    "X = df[['Division', 'Customer_Type',\n",
    "       'Monthly_SKUs_Purchased', 'Monthly_Vendors_Purchased',\n",
    "       'Monthly_Number_of_Sales', 'Monthly_Sum_Sales',\n",
    "       'Monthly_Gross_Margin']]\n",
    "y = df['churn']"
   ]
  },
  {
   "cell_type": "code",
   "execution_count": 28,
   "id": "df555a28",
   "metadata": {},
   "outputs": [],
   "source": [
    "#split\n",
    "x_train, x_test, y_train, y_test = train_test_split(X, y, test_size = 0.3, random_state = 4)"
   ]
  },
  {
   "cell_type": "code",
   "execution_count": 32,
   "id": "996b7c16",
   "metadata": {},
   "outputs": [],
   "source": [
    "x_train= Normalizer().fit(x_train).transform(x_train)\n",
    "x_train= pd.DataFrame(x_train, columns = X.columns)\n",
    "x_test = Normalizer().fit(x_test).transform(x_test)\n",
    "x_test = pd.DataFrame(x_test, columns = X.columns)"
   ]
  },
  {
   "cell_type": "code",
   "execution_count": 33,
   "id": "27ffdd5b",
   "metadata": {},
   "outputs": [
    {
     "name": "stdout",
     "output_type": "stream",
     "text": [
      "                       Field     Coeff\n",
      "0                   Division   0.64747\n",
      "1              Customer_Type  -0.39244\n",
      "2     Monthly_SKUs_Purchased  -1.50983\n",
      "3  Monthly_Vendors_Purchased    3.9522\n",
      "4    Monthly_Number_of_Sales   5.05413\n",
      "5          Monthly_Sum_Sales  -0.10317\n",
      "6       Monthly_Gross_Margin  -0.63836\n"
     ]
    }
   ],
   "source": [
    "# Create the LDA model\n",
    "LDAmodel = LinearDiscriminantAnalysis()\n",
    "\n",
    "# Fit model to data\n",
    "LDAmodel.fit(x_train,y_train)\n",
    "\n",
    "#these first two lines: LDAmodel is the actual model and the second line will be fitting the data into the model\n",
    "\n",
    "# Create a table to show coefficients next to names\n",
    "fieldList = np.array(list(X)).reshape(-1,1)\n",
    "\n",
    "coeffs = np.reshape(np.round(LDAmodel.coef_,5),(-1,1))\n",
    "coeffs=np.concatenate((fieldList,coeffs),axis=1)\n",
    "print(pd.DataFrame(coeffs,columns=['Field','Coeff']))"
   ]
  },
  {
   "cell_type": "code",
   "execution_count": 34,
   "id": "933b592b",
   "metadata": {},
   "outputs": [
    {
     "name": "stdout",
     "output_type": "stream",
     "text": [
      "0.5661\n"
     ]
    }
   ],
   "source": [
    "# Use the LDA model to predict classes based on X\n",
    "y_pred_train = LDAmodel.predict(x_train)\n",
    "\n",
    "# Summarize performance with average accuracy\n",
    "print(round(accuracy_score(y_train, y_pred_train),4))"
   ]
  },
  {
   "cell_type": "code",
   "execution_count": 35,
   "id": "f7f74623",
   "metadata": {},
   "outputs": [
    {
     "name": "stdout",
     "output_type": "stream",
     "text": [
      "0.5653\n"
     ]
    }
   ],
   "source": [
    "# Compare accuracy to testing data\n",
    "y_pred_test = LDAmodel.predict(x_test)\n",
    "\n",
    "# Summarize performance with average accuracy\n",
    "print(round(accuracy_score(y_test, y_pred_test),4))"
   ]
  }
 ],
 "metadata": {
  "kernelspec": {
   "display_name": "Python 3",
   "language": "python",
   "name": "python3"
  },
  "language_info": {
   "codemirror_mode": {
    "name": "ipython",
    "version": 3
   },
   "file_extension": ".py",
   "mimetype": "text/x-python",
   "name": "python",
   "nbconvert_exporter": "python",
   "pygments_lexer": "ipython3",
   "version": "3.8.8"
  }
 },
 "nbformat": 4,
 "nbformat_minor": 5
}
