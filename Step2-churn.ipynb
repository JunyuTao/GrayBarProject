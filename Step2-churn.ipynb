{
 "cells": [
  {
   "cell_type": "code",
   "execution_count": null,
   "id": "9fb20c25",
   "metadata": {},
   "outputs": [],
   "source": [
    "import pandas as pd\n",
    "import datetime\n",
    "import os"
   ]
  },
  {
   "cell_type": "markdown",
   "id": "accb0c35",
   "metadata": {},
   "source": [
    "# Determine 'Churn' and 'no Churn'"
   ]
  },
  {
   "cell_type": "code",
   "execution_count": null,
   "id": "00afd2e9",
   "metadata": {},
   "outputs": [],
   "source": [
    "files_c = os.listdir('Customers/')\n",
    "\n",
    "for file in files_c:\n",
    "    if(file.endswith('.csv')):\n",
    "        df2 = pd.read_csv('Customers/' + file)\n",
    "        df2['new_yearMonth'] = pd.to_datetime(df2['YearMonth'].astype(str), format='%Y%m')\n",
    "        \n",
    "        df2['difference'] = df2['new_yearMonth'].diff()\n",
    "        df3 = df2.drop(df2['difference'].idxmax())\n",
    "        df3 = df3.drop(df3['difference'].idxmin())\n",
    "        \n",
    "        average = df3['difference'].mean()\n",
    "        date = datetime.datetime(2019, 12, 31)\n",
    "        gap = date - df2['new_yearMonth'].max()\n",
    "        \n",
    "        if gap > average:\n",
    "            df2['churn'] = '1'\n",
    "            df2.to_csv('Customers_new/Customer' + file +'.csv', index=False)\n",
    "        else:\n",
    "            df2['churn'] = '0'\n",
    "            df2.to_csv('Customers_new/Customer' + file +'.csv', index=False)"
   ]
  }
 ],
 "metadata": {
  "kernelspec": {
   "display_name": "Python 3 (ipykernel)",
   "language": "python",
   "name": "python3"
  },
  "language_info": {
   "codemirror_mode": {
    "name": "ipython",
    "version": 3
   },
   "file_extension": ".py",
   "mimetype": "text/x-python",
   "name": "python",
   "nbconvert_exporter": "python",
   "pygments_lexer": "ipython3",
   "version": "3.8.11"
  }
 },
 "nbformat": 4,
 "nbformat_minor": 5
}
