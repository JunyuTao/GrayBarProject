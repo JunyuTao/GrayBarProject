{
 "cells": [
  {
   "cell_type": "code",
   "execution_count": 90,
   "id": "95aecd78",
   "metadata": {},
   "outputs": [],
   "source": [
    "import pandas as pd\n",
    "import numpy as np\n",
    "from sklearn.discriminant_analysis import LinearDiscriminantAnalysis\n",
    "from sklearn.linear_model import LogisticRegression\n",
    "from sklearn.metrics import accuracy_score\n",
    "import statsmodels.api as sm\n",
    "from sklearn.preprocessing import Normalizer\n",
    "from sklearn.model_selection import train_test_split"
   ]
  },
  {
   "cell_type": "code",
   "execution_count": 91,
   "id": "edb46eee",
   "metadata": {},
   "outputs": [
    {
     "data": {
      "text/plain": [
       "Index(['customer_number', 'Division', 'Customer_Type1', 'Customer_Type',\n",
       "       'YearMonth', 'Monthly_SKUs_Purchased', 'Monthly_Vendors_Purchased',\n",
       "       'Monthly_Number_of_Sales', 'Monthly_Last_Sales_Date',\n",
       "       'Monthly_First_Sales_Date', 'Monthly_Sales_Days', 'Monthly_Sum_Sales',\n",
       "       'Monthly_Gross_Margin', 'new_yearMonth', 'difference', 'churn',\n",
       "       'Backlog_Sales'],\n",
       "      dtype='object')"
      ]
     },
     "execution_count": 91,
     "metadata": {},
     "output_type": "execute_result"
    }
   ],
   "source": [
    "df = pd.read_csv('GB_Cleaned_dataset.csv')\n",
    "df.columns"
   ]
  },
  {
   "cell_type": "code",
   "execution_count": 92,
   "id": "511ef009",
   "metadata": {},
   "outputs": [],
   "source": [
    "X = df[['Division', 'Customer_Type', 'Monthly_SKUs_Purchased', 'Monthly_Vendors_Purchased', 'Monthly_Number_of_Sales']]\n",
    "Y = df['churn']\n"
   ]
  },
  {
   "cell_type": "code",
   "execution_count": 93,
   "id": "0797adf1",
   "metadata": {},
   "outputs": [],
   "source": [
    "x_train, x_test, y_train, y_test = train_test_split(X, Y, test_size = 0.3, random_state = 4)"
   ]
  },
  {
   "cell_type": "code",
   "execution_count": 94,
   "id": "43278531",
   "metadata": {},
   "outputs": [],
   "source": [
    "x_train= Normalizer().fit(x_train).transform(x_train)\n",
    "x_train= pd.DataFrame(x_train, columns = X.columns)\n",
    "x_test = Normalizer().fit(x_test).transform(x_test)\n",
    "x_test = pd.DataFrame(x_test, columns = X.columns)"
   ]
  },
  {
   "cell_type": "code",
   "execution_count": 95,
   "id": "d27ea94d",
   "metadata": {},
   "outputs": [
    {
     "name": "stderr",
     "output_type": "stream",
     "text": [
      "/Users/jamestao/opt/anaconda3/lib/python3.8/site-packages/statsmodels/tsa/tsatools.py:142: FutureWarning: In a future version of pandas all arguments of concat except for the argument 'objs' will be keyword-only\n",
      "  x = pd.concat(x[::order], 1)\n"
     ]
    },
    {
     "name": "stdout",
     "output_type": "stream",
     "text": [
      "Optimization terminated successfully.\n",
      "         Current function value: 0.638567\n",
      "         Iterations 5\n",
      "                           Logit Regression Results                           \n",
      "==============================================================================\n",
      "Dep. Variable:                      y   No. Observations:               272403\n",
      "Model:                          Logit   Df Residuals:                   272397\n",
      "Method:                           MLE   Df Model:                            5\n",
      "Date:                Mon, 06 Dec 2021   Pseudo R-squ.:                 0.07136\n",
      "Time:                        18:31:06   Log-Likelihood:            -1.7395e+05\n",
      "converged:                       True   LL-Null:                   -1.8731e+05\n",
      "Covariance Type:            nonrobust   LLR p-value:                     0.000\n",
      "=============================================================================================\n",
      "                                coef    std err          z      P>|z|      [0.025      0.975]\n",
      "---------------------------------------------------------------------------------------------\n",
      "const                        -2.4211      0.044    -54.979      0.000      -2.507      -2.335\n",
      "Division                      2.1314      0.033     65.061      0.000       2.067       2.196\n",
      "Customer_Type                 2.6735      0.038     71.010      0.000       2.600       2.747\n",
      "Monthly_SKUs_Purchased        0.9881      0.041     24.250      0.000       0.908       1.068\n",
      "Monthly_Vendors_Purchased     0.9687      0.036     26.803      0.000       0.898       1.040\n",
      "Monthly_Number_of_Sales      -0.3560      0.032    -11.071      0.000      -0.419      -0.293\n",
      "=============================================================================================\n"
     ]
    }
   ],
   "source": [
    "y_train = list(y_train)\n",
    "x_train = sm.add_constant(x_train)\n",
    "LRmodel = sm.Logit(y_train, x_train).fit()\n",
    "print(LRmodel.summary())"
   ]
  },
  {
   "cell_type": "code",
   "execution_count": 96,
   "id": "983e60b6",
   "metadata": {},
   "outputs": [
    {
     "name": "stdout",
     "output_type": "stream",
     "text": [
      "training accuracy is 0.6347140082891892\n",
      "testing accuracy is 0.6355389952460491\n"
     ]
    },
    {
     "name": "stderr",
     "output_type": "stream",
     "text": [
      "/Users/jamestao/opt/anaconda3/lib/python3.8/site-packages/statsmodels/tsa/tsatools.py:142: FutureWarning: In a future version of pandas all arguments of concat except for the argument 'objs' will be keyword-only\n",
      "  x = pd.concat(x[::order], 1)\n"
     ]
    }
   ],
   "source": [
    "y_probs = LRmodel.predict(x_train)\n",
    "y_pred = list(map(round, y_probs))\n",
    "print('training accuracy is',accuracy_score(y_train, y_pred))\n",
    "y_test = list(y_test)\n",
    "x_test = sm.add_constant(x_test)\n",
    "y_probs_test = LRmodel.predict(x_test)\n",
    "y_pred_test = list(map(round, y_probs_test))\n",
    "print('testing accuracy is',accuracy_score(y_test, y_pred_test))"
   ]
  },
  {
   "cell_type": "code",
   "execution_count": 97,
   "id": "9d458753",
   "metadata": {},
   "outputs": [
    {
     "name": "stdout",
     "output_type": "stream",
     "text": [
      "[[44395 20055]\n",
      " [22494 29801]]\n"
     ]
    }
   ],
   "source": [
    "from sklearn import metrics\n",
    "print(metrics.confusion_matrix(y_test, y_pred_test, labels=[0,1]))"
   ]
  },
  {
   "cell_type": "code",
   "execution_count": 98,
   "id": "8ec01add",
   "metadata": {},
   "outputs": [],
   "source": [
    "df_out = pd.DataFrame()\n",
    "df_out['churn'] = y_test"
   ]
  },
  {
   "cell_type": "code",
   "execution_count": 99,
   "id": "3266b45d",
   "metadata": {},
   "outputs": [],
   "source": [
    "df_out['Prob']=y_probs_test\n",
    "df_out=df_out[['churn','Prob']]"
   ]
  },
  {
   "cell_type": "code",
   "execution_count": 100,
   "id": "935bb23f",
   "metadata": {},
   "outputs": [],
   "source": [
    "df_out.to_csv(\"LR_TestingOutput.csv\", index=False)"
   ]
  },
  {
   "cell_type": "code",
   "execution_count": null,
   "id": "9062b872",
   "metadata": {},
   "outputs": [],
   "source": []
  }
 ],
 "metadata": {
  "kernelspec": {
   "display_name": "Python 3",
   "language": "python",
   "name": "python3"
  },
  "language_info": {
   "codemirror_mode": {
    "name": "ipython",
    "version": 3
   },
   "file_extension": ".py",
   "mimetype": "text/x-python",
   "name": "python",
   "nbconvert_exporter": "python",
   "pygments_lexer": "ipython3",
   "version": "3.8.8"
  }
 },
 "nbformat": 4,
 "nbformat_minor": 5
}
