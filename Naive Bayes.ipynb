{
 "cells": [
  {
   "cell_type": "code",
   "execution_count": 25,
   "id": "33e3ac67",
   "metadata": {},
   "outputs": [],
   "source": [
    "import numpy as np\n",
    "import pandas as pd\n",
    "from sklearn.model_selection import train_test_split\n",
    "from sklearn.naive_bayes import MultinomialNB, GaussianNB\n",
    "from sklearn.preprocessing import OrdinalEncoder\n",
    "from sklearn.metrics import accuracy_score, roc_curve, roc_auc_score"
   ]
  },
  {
   "cell_type": "code",
   "execution_count": 26,
   "id": "b8720382",
   "metadata": {},
   "outputs": [],
   "source": [
    "df = pd.read_csv('GB_Cleaned_dataset.csv')"
   ]
  },
  {
   "cell_type": "code",
   "execution_count": 27,
   "id": "45555ed2",
   "metadata": {},
   "outputs": [
    {
     "data": {
      "text/plain": [
       "Index(['customer_number', 'Division', 'Customer_Type1', 'Customer_Type',\n",
       "       'YearMonth', 'Monthly_SKUs_Purchased', 'Monthly_Vendors_Purchased',\n",
       "       'Monthly_Number_of_Sales', 'Monthly_Last_Sales_Date',\n",
       "       'Monthly_First_Sales_Date', 'Monthly_Sales_Days', 'Monthly_Sum_Sales',\n",
       "       'Monthly_Gross_Margin', 'new_yearMonth', 'difference', 'churn',\n",
       "       'Backlog_Sales'],\n",
       "      dtype='object')"
      ]
     },
     "execution_count": 27,
     "metadata": {},
     "output_type": "execute_result"
    }
   ],
   "source": [
    "df.columns"
   ]
  },
  {
   "cell_type": "code",
   "execution_count": null,
   "id": "4354ec9a",
   "metadata": {},
   "outputs": [],
   "source": [
    "# X value = 'Customer_Type','Division','Monthly_SKUs_Purchased','Monthly_Vendors_Purchased','Monthly_Number_of_Sales',\n",
    "#'Monthly_Sales_Days', 'Monthly_Sum_Sales','Monthly_Gross_Margin'\n",
    "\n",
    "# X_cat = 'Customer_Type','Division'\n",
    "\n",
    "# X_num = 'Monthly_SKUs_Purchased','Monthly_Vendors_Purchased','Monthly_Number_of_Sales',\n",
    "#'Monthly_Sales_Days', 'Monthly_Sum_Sales','Monthly_Gross_Margin'\n",
    "\n",
    "# Target value = 'churn'"
   ]
  },
  {
   "cell_type": "code",
   "execution_count": 28,
   "id": "a078225e",
   "metadata": {},
   "outputs": [],
   "source": [
    "X_cat=df[['Division','Customer_Type']]\n",
    "\n",
    "Y=df['churn']"
   ]
  },
  {
   "cell_type": "code",
   "execution_count": 29,
   "id": "4d43a175",
   "metadata": {},
   "outputs": [],
   "source": [
    "xc_train, xc_test, y_train, y_test = train_test_split(X_cat, Y, test_size = 0.3, random_state = 42)"
   ]
  },
  {
   "cell_type": "code",
   "execution_count": 30,
   "id": "e5aa4721",
   "metadata": {},
   "outputs": [
    {
     "name": "stdout",
     "output_type": "stream",
     "text": [
      "training accuracy is 0.5531\n",
      "testing accuracy is 0.5506\n"
     ]
    }
   ],
   "source": [
    "# Define & fit the model\n",
    "nb_cat = MultinomialNB(alpha=0.1)\n",
    "nb_cat.fit(xc_train, y_train)\n",
    "\n",
    "# Create predictions and calculate accuracy for training data\n",
    "y_pred_train = nb_cat.predict(xc_train)\n",
    "print('training accuracy is', round(accuracy_score(y_train, y_pred_train),4))\n",
    "\n",
    "# Create predictions and calculate accuracy for testing data\n",
    "y_pred_test = nb_cat.predict(xc_test)\n",
    "print('testing accuracy is', round(accuracy_score(y_test, y_pred_test),4))"
   ]
  },
  {
   "cell_type": "code",
   "execution_count": null,
   "id": "9a2505eb",
   "metadata": {},
   "outputs": [],
   "source": []
  },
  {
   "cell_type": "code",
   "execution_count": 31,
   "id": "131a4d28",
   "metadata": {},
   "outputs": [],
   "source": [
    "X_num = df[['Monthly_SKUs_Purchased','Monthly_Vendors_Purchased','Monthly_Number_of_Sales',\n",
    "      'Monthly_Sales_Days', 'Monthly_Sum_Sales','Monthly_Gross_Margin']]\n",
    "xn_train, xn_test, y_train, y_test = train_test_split(X_num, Y, test_size = 0.3, random_state = 42)"
   ]
  },
  {
   "cell_type": "code",
   "execution_count": 32,
   "id": "5605c980",
   "metadata": {},
   "outputs": [
    {
     "name": "stdout",
     "output_type": "stream",
     "text": [
      "training accuracy is 0.5151\n",
      "testing accuracy is 0.5163\n"
     ]
    }
   ],
   "source": [
    "# Define & fit the model\n",
    "nb_num = GaussianNB()\n",
    "nb_num.fit(xn_train, y_train)\n",
    "\n",
    "# Create predictions and calculate accuracy for training data\n",
    "y_pred_train = nb_num.predict(xn_train)\n",
    "print('training accuracy is', round(accuracy_score(y_train, y_pred_train),4))\n",
    "\n",
    "# Create predictions and calculate accuracy for testing data\n",
    "y_pred_test = nb_num.predict(xn_test)\n",
    "print('testing accuracy is', round(accuracy_score(y_test, y_pred_test),4))"
   ]
  },
  {
   "cell_type": "code",
   "execution_count": null,
   "id": "450089c4",
   "metadata": {},
   "outputs": [],
   "source": []
  },
  {
   "cell_type": "code",
   "execution_count": 33,
   "id": "53092299",
   "metadata": {},
   "outputs": [],
   "source": [
    "import matplotlib.pyplot as plt"
   ]
  },
  {
   "cell_type": "code",
   "execution_count": 34,
   "id": "cbb3d042",
   "metadata": {},
   "outputs": [
    {
     "name": "stdout",
     "output_type": "stream",
     "text": [
      "Naive Bayes with categorical variables: AUC = 0.5037\n",
      "Naive Bayes with numerical variables: AUC = 0.6918\n"
     ]
    }
   ],
   "source": [
    "# Calculate probabilities for each model\n",
    "cat_probs = nb_cat.predict_proba(xc_test)\n",
    "num_probs = nb_num.predict_proba(xn_test)\n",
    "\n",
    "# cat_probs and num_probs have 2 columns, one for Prob(Y=0)\n",
    "# and another column for Prob(Y=1) \n",
    "# Keep only the probailities for the positive (Y=1) outcome\n",
    "# so that we can use roc_auc_score with them\n",
    "cat_probs = cat_probs[:,1]\n",
    "num_probs = num_probs[:,1]\n",
    "\n",
    "# Calculate area under the ROC curves\n",
    "nbcat_auc = roc_auc_score(y_test, cat_probs)\n",
    "nbnum_auc = roc_auc_score(y_test, num_probs)\n",
    "print('Naive Bayes with categorical variables: AUC =', round(nbcat_auc,4))\n",
    "print('Naive Bayes with numerical variables: AUC =', round(nbnum_auc,4))"
   ]
  },
  {
   "cell_type": "code",
   "execution_count": 35,
   "id": "12b3231a",
   "metadata": {},
   "outputs": [],
   "source": [
    "# Calculate false positive rate and true positive rate\n",
    "c_fpr, c_tpr, _ = roc_curve(y_test, cat_probs)\n",
    "n_fpr, n_tpr, _ = roc_curve(y_test, num_probs)"
   ]
  },
  {
   "cell_type": "code",
   "execution_count": 36,
   "id": "69a390a8",
   "metadata": {},
   "outputs": [
    {
     "data": {
      "image/png": "[encoded data removed]",
      "text/plain": [
       "<Figure size 432x288 with 1 Axes>"
      ]
     },
     "metadata": {
      "needs_background": "light"
     },
     "output_type": "display_data"
    }
   ],
   "source": [
    "# Plot the ROC curve)\n",
    "plt.plot(c_fpr, c_tpr, marker='.', label='NB, Categorical Vars (AUROC = %0.3f)' % nbcat_auc)\n",
    "plt.plot(n_fpr, n_tpr, marker='.', label='NB, Numeric Vars (AUROC = %0.3f)' % nbnum_auc)\n",
    "\n",
    "# Title\n",
    "plt.title('ROC Plot')\n",
    "# Axis labels\n",
    "plt.xlabel('False Positive Rate')\n",
    "plt.ylabel('True Positive Rate')\n",
    "# Show legend\n",
    "plt.legend() # \n",
    "# Show plot\n",
    "plt.show()"
   ]
  },
  {
   "cell_type": "code",
   "execution_count": null,
   "id": "ebb03155",
   "metadata": {},
   "outputs": [],
   "source": []
  },
  {
   "cell_type": "code",
   "execution_count": 37,
   "id": "c440f1b6",
   "metadata": {},
   "outputs": [
    {
     "data": {
      "text/plain": [
       "Index(['Division', 'Customer_Type'], dtype='object')"
      ]
     },
     "execution_count": 37,
     "metadata": {},
     "output_type": "execute_result"
    }
   ],
   "source": [
    "X_cat.columns"
   ]
  },
  {
   "cell_type": "code",
   "execution_count": 38,
   "id": "88db9f1b",
   "metadata": {},
   "outputs": [
    {
     "data": {
      "text/plain": [
       "Index(['Monthly_SKUs_Purchased', 'Monthly_Vendors_Purchased',\n",
       "       'Monthly_Number_of_Sales', 'Monthly_Sales_Days', 'Monthly_Sum_Sales',\n",
       "       'Monthly_Gross_Margin'],\n",
       "      dtype='object')"
      ]
     },
     "execution_count": 38,
     "metadata": {},
     "output_type": "execute_result"
    }
   ],
   "source": [
    "X_num.columns"
   ]
  },
  {
   "cell_type": "code",
   "execution_count": 39,
   "id": "d43e0c41",
   "metadata": {},
   "outputs": [
    {
     "name": "stderr",
     "output_type": "stream",
     "text": [
      "C:\\Users\\DELL\\anaconda3\\lib\\site-packages\\pandas\\core\\frame.py:3191: SettingWithCopyWarning: \n",
      "A value is trying to be set on a copy of a slice from a DataFrame.\n",
      "Try using .loc[row_indexer,col_indexer] = value instead\n",
      "\n",
      "See the caveats in the documentation: https://pandas.pydata.org/pandas-docs/stable/user_guide/indexing.html#returning-a-view-versus-a-copy\n",
      "  self[k1] = value[k2]\n"
     ]
    },
    {
     "data": {
      "text/plain": [
       "(389148, 8)"
      ]
     },
     "execution_count": 39,
     "metadata": {},
     "output_type": "execute_result"
    }
   ],
   "source": [
    "X = X_cat\n",
    "X[['Monthly_SKUs_Purchased','Monthly_Vendors_Purchased','Monthly_Number_of_Sales',\n",
    "      'Monthly_Sales_Days', 'Monthly_Sum_Sales','Monthly_Gross_Margin']]=X_num\n",
    "np.shape(X)"
   ]
  },
  {
   "cell_type": "code",
   "execution_count": null,
   "id": "e5d617df",
   "metadata": {},
   "outputs": [],
   "source": []
  },
  {
   "cell_type": "code",
   "execution_count": 44,
   "id": "4c3ac517",
   "metadata": {},
   "outputs": [
    {
     "name": "stdout",
     "output_type": "stream",
     "text": [
      "Requirement already satisfied: mixed-naive-bayes in c:\\users\\dell\\anaconda3\\lib\\site-packages (0.0.1)\n",
      "Requirement already satisfied: numpy>=1.16.1 in c:\\users\\dell\\anaconda3\\lib\\site-packages (from mixed-naive-bayes) (1.20.1)\n",
      "Requirement already satisfied: scikit-learn>=0.20.2 in c:\\users\\dell\\anaconda3\\lib\\site-packages (from mixed-naive-bayes) (0.24.1)\n",
      "Requirement already satisfied: joblib>=0.11 in c:\\users\\dell\\anaconda3\\lib\\site-packages (from scikit-learn>=0.20.2->mixed-naive-bayes) (1.0.1)\n",
      "Requirement already satisfied: scipy>=0.19.1 in c:\\users\\dell\\anaconda3\\lib\\site-packages (from scikit-learn>=0.20.2->mixed-naive-bayes) (1.6.2)\n",
      "Requirement already satisfied: threadpoolctl>=2.0.0 in c:\\users\\dell\\anaconda3\\lib\\site-packages (from scikit-learn>=0.20.2->mixed-naive-bayes) (2.1.0)\n",
      "Note: you may need to restart the kernel to use updated packages.\n"
     ]
    }
   ],
   "source": [
    "pip install mixed-naive-bayes"
   ]
  },
  {
   "cell_type": "code",
   "execution_count": 45,
   "id": "4490d89e",
   "metadata": {},
   "outputs": [
    {
     "data": {
      "text/plain": [
       "Index(['Division', 'Customer_Type', 'Monthly_SKUs_Purchased',\n",
       "       'Monthly_Vendors_Purchased', 'Monthly_Number_of_Sales',\n",
       "       'Monthly_Sales_Days', 'Monthly_Sum_Sales', 'Monthly_Gross_Margin'],\n",
       "      dtype='object')"
      ]
     },
     "execution_count": 45,
     "metadata": {},
     "output_type": "execute_result"
    }
   ],
   "source": [
    "X.columns"
   ]
  },
  {
   "cell_type": "code",
   "execution_count": 58,
   "id": "c2e56a34",
   "metadata": {},
   "outputs": [
    {
     "data": {
      "text/plain": [
       "<bound method NDFrame.head of         Division  Customer_Type  Monthly_SKUs_Purchased  \\\n",
       "87039          2              2                       8   \n",
       "367571         9              1                      11   \n",
       "168431         7              2                     159   \n",
       "266341         3              2                      12   \n",
       "274978         8              1                      27   \n",
       "...          ...            ...                     ...   \n",
       "259178         7              1                       0   \n",
       "365838         8              2                      67   \n",
       "131932         8              2                       0   \n",
       "146867         6              2                       2   \n",
       "121958         7              2                       6   \n",
       "\n",
       "        Monthly_Vendors_Purchased  Monthly_Number_of_Sales  \\\n",
       "87039                           3                        3   \n",
       "367571                          8                        3   \n",
       "168431                         33                       17   \n",
       "266341                          6                        6   \n",
       "274978                         10                        8   \n",
       "...                           ...                      ...   \n",
       "259178                          0                        0   \n",
       "365838                         17                       14   \n",
       "131932                          0                        0   \n",
       "146867                          1                        2   \n",
       "121958                          6                        5   \n",
       "\n",
       "        Monthly_Sales_Days  Monthly_Sum_Sales  Monthly_Gross_Margin  \n",
       "87039                    4             477.91                383.91  \n",
       "367571                  23             713.28                228.61  \n",
       "168431                  30           37748.92              30549.63  \n",
       "266341                  19            1226.87                306.55  \n",
       "274978                  30            9726.75               7451.03  \n",
       "...                    ...                ...                   ...  \n",
       "259178                   1              -0.01               3442.99  \n",
       "365838                  30            3867.45                511.05  \n",
       "131932                   1          234659.45             234659.45  \n",
       "146867                   7             677.14                252.36  \n",
       "121958                  21            1569.68               1139.60  \n",
       "\n",
       "[272403 rows x 8 columns]>"
      ]
     },
     "execution_count": 58,
     "metadata": {},
     "output_type": "execute_result"
    }
   ],
   "source": [
    "x_train.head"
   ]
  },
  {
   "cell_type": "code",
   "execution_count": 56,
   "id": "9085241a",
   "metadata": {},
   "outputs": [
    {
     "ename": "ValueError",
     "evalue": "Expected feature no. 0 to have [0 1 2 3 4 5 6 7 8 9] as unique values, but got [1 2 3 4 5 6 7 8 9] instead. Encode your data using sklearn's LabelEncoder, or specify the maximum no. of categories this feature can take.",
     "output_type": "error",
     "traceback": [
      "\u001b[1;31m---------------------------------------------------------------------------\u001b[0m",
      "\u001b[1;31mValueError\u001b[0m                                Traceback (most recent call last)",
      "\u001b[1;32m<ipython-input-56-f8125c7a7fc5>\u001b[0m in \u001b[0;36m<module>\u001b[1;34m\u001b[0m\n\u001b[0;32m      3\u001b[0m \u001b[1;31m# Define & fit the model\u001b[0m\u001b[1;33m\u001b[0m\u001b[1;33m\u001b[0m\u001b[1;33m\u001b[0m\u001b[0m\n\u001b[0;32m      4\u001b[0m \u001b[0mnb_mix\u001b[0m \u001b[1;33m=\u001b[0m \u001b[0mMixedNB\u001b[0m\u001b[1;33m(\u001b[0m\u001b[0mcategorical_features\u001b[0m\u001b[1;33m=\u001b[0m\u001b[1;33m[\u001b[0m\u001b[1;36m0\u001b[0m\u001b[1;33m,\u001b[0m\u001b[1;36m1\u001b[0m\u001b[1;33m]\u001b[0m\u001b[1;33m)\u001b[0m\u001b[1;33m\u001b[0m\u001b[1;33m\u001b[0m\u001b[0m\n\u001b[1;32m----> 5\u001b[1;33m \u001b[0mnb_mix\u001b[0m\u001b[1;33m.\u001b[0m\u001b[0mfit\u001b[0m\u001b[1;33m(\u001b[0m\u001b[0mx_train\u001b[0m\u001b[1;33m,\u001b[0m \u001b[0my_train\u001b[0m\u001b[1;33m)\u001b[0m\u001b[1;33m\u001b[0m\u001b[1;33m\u001b[0m\u001b[0m\n\u001b[0m\u001b[0;32m      6\u001b[0m \u001b[1;33m\u001b[0m\u001b[0m\n\u001b[0;32m      7\u001b[0m \u001b[1;31m# Create predictions and calculate accuracy for training data\u001b[0m\u001b[1;33m\u001b[0m\u001b[1;33m\u001b[0m\u001b[1;33m\u001b[0m\u001b[0m\n",
      "\u001b[1;32m~\\anaconda3\\lib\\site-packages\\mixed_naive_bayes\\mixed_naive_bayes.py\u001b[0m in \u001b[0;36mfit\u001b[1;34m(self, X, y)\u001b[0m\n\u001b[0;32m    131\u001b[0m         \u001b[1;31m# Validate inputs\u001b[0m\u001b[1;33m\u001b[0m\u001b[1;33m\u001b[0m\u001b[1;33m\u001b[0m\u001b[0m\n\u001b[0;32m    132\u001b[0m         \u001b[0mself\u001b[0m\u001b[1;33m.\u001b[0m\u001b[0malpha\u001b[0m \u001b[1;33m=\u001b[0m \u001b[0m_validate_inits\u001b[0m\u001b[1;33m(\u001b[0m\u001b[0mself\u001b[0m\u001b[1;33m.\u001b[0m\u001b[0malpha\u001b[0m\u001b[1;33m)\u001b[0m\u001b[1;33m\u001b[0m\u001b[1;33m\u001b[0m\u001b[0m\n\u001b[1;32m--> 133\u001b[1;33m         X, y = _validate_training_data(\n\u001b[0m\u001b[0;32m    134\u001b[0m             X, y, self.categorical_features, self.max_categories)\n\u001b[0;32m    135\u001b[0m \u001b[1;33m\u001b[0m\u001b[0m\n",
      "\u001b[1;32m~\\anaconda3\\lib\\site-packages\\mixed_naive_bayes\\mixed_naive_bayes.py\u001b[0m in \u001b[0;36m_validate_training_data\u001b[1;34m(X_raw, y_raw, categorical_features, max_categories)\u001b[0m\n\u001b[0;32m    433\u001b[0m                 \u001b[0muniques\u001b[0m \u001b[1;33m=\u001b[0m \u001b[0mnp\u001b[0m\u001b[1;33m.\u001b[0m\u001b[0munique\u001b[0m\u001b[1;33m(\u001b[0m\u001b[0mX\u001b[0m\u001b[1;33m[\u001b[0m\u001b[1;33m:\u001b[0m\u001b[1;33m,\u001b[0m \u001b[0mfeature_no\u001b[0m\u001b[1;33m]\u001b[0m\u001b[1;33m)\u001b[0m\u001b[1;33m.\u001b[0m\u001b[0mastype\u001b[0m\u001b[1;33m(\u001b[0m\u001b[0mint\u001b[0m\u001b[1;33m)\u001b[0m\u001b[1;33m\u001b[0m\u001b[1;33m\u001b[0m\u001b[0m\n\u001b[0;32m    434\u001b[0m                 \u001b[1;32mif\u001b[0m \u001b[1;32mnot\u001b[0m \u001b[0mnp\u001b[0m\u001b[1;33m.\u001b[0m\u001b[0marray_equal\u001b[0m\u001b[1;33m(\u001b[0m\u001b[0muniques\u001b[0m\u001b[1;33m,\u001b[0m \u001b[0mnp\u001b[0m\u001b[1;33m.\u001b[0m\u001b[0marange\u001b[0m\u001b[1;33m(\u001b[0m\u001b[1;36m0\u001b[0m\u001b[1;33m,\u001b[0m \u001b[0mnp\u001b[0m\u001b[1;33m.\u001b[0m\u001b[0mmax\u001b[0m\u001b[1;33m(\u001b[0m\u001b[0muniques\u001b[0m\u001b[1;33m)\u001b[0m\u001b[1;33m+\u001b[0m\u001b[1;36m1\u001b[0m\u001b[1;33m)\u001b[0m\u001b[1;33m)\u001b[0m\u001b[1;33m:\u001b[0m\u001b[1;33m\u001b[0m\u001b[1;33m\u001b[0m\u001b[0m\n\u001b[1;32m--> 435\u001b[1;33m                     raise ValueError(f\"Expected feature no. {feature_no} to have \" +\n\u001b[0m\u001b[0;32m    436\u001b[0m                                      \u001b[1;34mf\"{np.arange(0,np.max(uniques)+1)} as \"\u001b[0m \u001b[1;33m+\u001b[0m\u001b[1;33m\u001b[0m\u001b[1;33m\u001b[0m\u001b[0m\n\u001b[0;32m    437\u001b[0m                                      \u001b[1;34mf\"unique values, but got {uniques} instead. \"\u001b[0m \u001b[1;33m+\u001b[0m\u001b[1;33m\u001b[0m\u001b[1;33m\u001b[0m\u001b[0m\n",
      "\u001b[1;31mValueError\u001b[0m: Expected feature no. 0 to have [0 1 2 3 4 5 6 7 8 9] as unique values, but got [1 2 3 4 5 6 7 8 9] instead. Encode your data using sklearn's LabelEncoder, or specify the maximum no. of categories this feature can take."
     ]
    }
   ],
   "source": [
    "from mixed_naive_bayes import MixedNB\n",
    "\n",
    "# Define & fit the model\n",
    "nb_mix = MixedNB(categorical_features=[0,1])\n",
    "nb_mix.fit(x_train, y_train)\n",
    "\n",
    "# Create predictions and calculate accuracy for training data\n",
    "y_pred_train = nb_mix.predict(x_train)\n",
    "print('training accuracy is', round(accuracy_score(y_train, y_pred_train),4))\n",
    "\n",
    "# Create predictions and calculate accuracy for testing data\n",
    "y_pred_test = nb_mix.predict(x_test)\n",
    "print('testing accuracy is', round(accuracy_score(y_test, y_pred_test),4))"
   ]
  },
  {
   "cell_type": "code",
   "execution_count": 57,
   "id": "93205477",
   "metadata": {},
   "outputs": [
    {
     "data": {
      "text/plain": [
       "<bound method NDFrame.head of 87039     1\n",
       "367571    0\n",
       "168431    0\n",
       "266341    1\n",
       "274978    0\n",
       "         ..\n",
       "259178    1\n",
       "365838    0\n",
       "131932    0\n",
       "146867    1\n",
       "121958    0\n",
       "Name: churn, Length: 272403, dtype: int64>"
      ]
     },
     "execution_count": 57,
     "metadata": {},
     "output_type": "execute_result"
    }
   ],
   "source": [
    "y_train.head"
   ]
  },
  {
   "cell_type": "code",
   "execution_count": null,
   "id": "6e5a426d",
   "metadata": {},
   "outputs": [],
   "source": []
  }
 ],
 "metadata": {
  "kernelspec": {
   "display_name": "Python 3",
   "language": "python",
   "name": "python3"
  },
  "language_info": {
   "codemirror_mode": {
    "name": "ipython",
    "version": 3
   },
   "file_extension": ".py",
   "mimetype": "text/x-python",
   "name": "python",
   "nbconvert_exporter": "python",
   "pygments_lexer": "ipython3",
   "version": "3.8.8"
  }
 },
 "nbformat": 4,
 "nbformat_minor": 5
}
