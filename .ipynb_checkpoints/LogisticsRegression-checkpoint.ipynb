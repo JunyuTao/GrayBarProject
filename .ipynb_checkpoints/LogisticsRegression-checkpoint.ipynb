{
 "cells": [
  {
   "cell_type": "code",
   "execution_count": 43,
   "id": "95aecd78",
   "metadata": {},
   "outputs": [],
   "source": [
    "import pandas as pd\n",
    "import numpy as np\n",
    "from sklearn.discriminant_analysis import LinearDiscriminantAnalysis\n",
    "from sklearn.linear_model import LogisticRegression\n",
    "from sklearn.metrics import accuracy_score\n",
    "import statsmodels.api as sm\n",
    "from sklearn.preprocessing import Normalizer\n",
    "from sklearn.model_selection import train_test_split"
   ]
  },
  {
   "cell_type": "code",
   "execution_count": 44,
   "id": "edb46eee",
   "metadata": {},
   "outputs": [
    {
     "data": {
      "text/plain": [
       "Index(['customer_number', 'Division', 'Customer_Type1', 'Customer_Type',\n",
       "       'YearMonth', 'Monthly_SKUs_Purchased', 'Monthly_Vendors_Purchased',\n",
       "       'Monthly_Number_of_Sales', 'Monthly_Last_Sales_Date',\n",
       "       'Monthly_First_Sales_Date', 'Monthly_Sales_Days', 'Monthly_Sum_Sales',\n",
       "       'Monthly_Gross_Margin', 'new_yearMonth', 'difference', 'churn',\n",
       "       'Backlog_Sales'],\n",
       "      dtype='object')"
      ]
     },
     "execution_count": 44,
     "metadata": {},
     "output_type": "execute_result"
    }
   ],
   "source": [
    "df = pd.read_csv('GB_Cleaned_dataset.csv')\n",
    "df.columns"
   ]
  },
  {
   "cell_type": "code",
   "execution_count": 45,
   "id": "511ef009",
   "metadata": {},
   "outputs": [],
   "source": [
    "X = df[['Division', 'Monthly_SKUs_Purchased', 'Monthly_Vendors_Purchased', 'Monthly_Number_of_Sales', 'Monthly_Gross_Margin']]\n",
    "Y = df['churn']\n"
   ]
  },
  {
   "cell_type": "code",
   "execution_count": 46,
   "id": "0797adf1",
   "metadata": {},
   "outputs": [],
   "source": [
    "x_train, x_test, y_train, y_test = train_test_split(X, Y, test_size = 0.3, random_state = 4)"
   ]
  },
  {
   "cell_type": "code",
   "execution_count": 47,
   "id": "43278531",
   "metadata": {},
   "outputs": [],
   "source": [
    "x_train= Normalizer().fit(x_train).transform(x_train)\n",
    "x_train= pd.DataFrame(x_train, columns = X.columns)\n",
    "x_test = Normalizer().fit(x_test).transform(x_test)\n",
    "x_test = pd.DataFrame(x_test, columns = X.columns)"
   ]
  },
  {
   "cell_type": "code",
   "execution_count": 48,
   "id": "d27ea94d",
   "metadata": {},
   "outputs": [
    {
     "name": "stderr",
     "output_type": "stream",
     "text": [
      "/Users/jamestao/opt/anaconda3/lib/python3.8/site-packages/statsmodels/tsa/tsatools.py:142: FutureWarning: In a future version of pandas all arguments of concat except for the argument 'objs' will be keyword-only\n",
      "  x = pd.concat(x[::order], 1)\n"
     ]
    },
    {
     "name": "stdout",
     "output_type": "stream",
     "text": [
      "Optimization terminated successfully.\n",
      "         Current function value: 0.680764\n",
      "         Iterations 5\n",
      "                           Logit Regression Results                           \n",
      "==============================================================================\n",
      "Dep. Variable:                      y   No. Observations:               272403\n",
      "Model:                          Logit   Df Residuals:                   272397\n",
      "Method:                           MLE   Df Model:                            5\n",
      "Date:                Mon, 06 Dec 2021   Pseudo R-squ.:                0.009993\n",
      "Time:                        17:19:31   Log-Likelihood:            -1.8544e+05\n",
      "converged:                       True   LL-Null:                   -1.8731e+05\n",
      "Covariance Type:            nonrobust   LLR p-value:                     0.000\n",
      "=============================================================================================\n",
      "                                coef    std err          z      P>|z|      [0.025      0.975]\n",
      "---------------------------------------------------------------------------------------------\n",
      "const                        -0.0979      0.012     -8.493      0.000      -0.121      -0.075\n",
      "Division                      0.7970      0.032     25.091      0.000       0.735       0.859\n",
      "Monthly_SKUs_Purchased       -2.4109      0.146    -16.496      0.000      -2.697      -2.124\n",
      "Monthly_Vendors_Purchased     5.4488      0.370     14.721      0.000       4.723       6.174\n",
      "Monthly_Number_of_Sales       2.2466      0.353      6.366      0.000       1.555       2.938\n",
      "Monthly_Gross_Margin         -0.2006      0.011    -17.935      0.000      -0.223      -0.179\n",
      "=============================================================================================\n"
     ]
    }
   ],
   "source": [
    "y_train = list(y_train)\n",
    "x_train = sm.add_constant(x_train)\n",
    "LRmodel = sm.Logit(y_train, x_train).fit()\n",
    "print(LRmodel.summary())"
   ]
  },
  {
   "cell_type": "code",
   "execution_count": 49,
   "id": "983e60b6",
   "metadata": {},
   "outputs": [
    {
     "name": "stdout",
     "output_type": "stream",
     "text": [
      "training accuracy is 0.5721045656619054\n",
      "testing accuracy is 0.5713563750053535\n"
     ]
    },
    {
     "name": "stderr",
     "output_type": "stream",
     "text": [
      "/Users/jamestao/opt/anaconda3/lib/python3.8/site-packages/statsmodels/tsa/tsatools.py:142: FutureWarning: In a future version of pandas all arguments of concat except for the argument 'objs' will be keyword-only\n",
      "  x = pd.concat(x[::order], 1)\n"
     ]
    }
   ],
   "source": [
    "y_probs = LRmodel.predict(x_train)\n",
    "y_pred = list(map(round, y_probs))\n",
    "print('training accuracy is',accuracy_score(y_train, y_pred))\n",
    "y_test = list(y_test)\n",
    "x_test = sm.add_constant(x_test)\n",
    "y_probs_test = LRmodel.predict(x_test)\n",
    "y_pred_test = list(map(round, y_probs_test))\n",
    "print('testing accuracy is',accuracy_score(y_test, y_pred_test))"
   ]
  },
  {
   "cell_type": "code",
   "execution_count": 50,
   "id": "0ce3ea8c",
   "metadata": {},
   "outputs": [
    {
     "name": "stdout",
     "output_type": "stream",
     "text": [
      "[[140815   9674]\n",
      " [106886  15028]]\n"
     ]
    }
   ],
   "source": [
    "from sklearn import metrics\n",
    "print(metrics.confusion_matrix(y_train, y_pred, labels=[0,1]))"
   ]
  },
  {
   "cell_type": "code",
   "execution_count": 51,
   "id": "2f74ff81",
   "metadata": {},
   "outputs": [],
   "source": [
    "df['Prob']=y_probs\n",
    "df_out=df[['churn','Prob']]"
   ]
  },
  {
   "cell_type": "code",
   "execution_count": 52,
   "id": "b3b10155",
   "metadata": {},
   "outputs": [],
   "source": [
    "df_out.to_csv(\"LR_TrainingOutput.csv\", index=False)"
   ]
  },
  {
   "cell_type": "code",
   "execution_count": null,
   "id": "95aa5c96",
   "metadata": {},
   "outputs": [],
   "source": []
  }
 ],
 "metadata": {
  "kernelspec": {
   "display_name": "Python 3 (ipykernel)",
   "language": "python",
   "name": "python3"
  },
  "language_info": {
   "codemirror_mode": {
    "name": "ipython",
    "version": 3
   },
   "file_extension": ".py",
   "mimetype": "text/x-python",
   "name": "python",
   "nbconvert_exporter": "python",
   "pygments_lexer": "ipython3",
   "version": "3.8.11"
  }
 },
 "nbformat": 4,
 "nbformat_minor": 5
}
