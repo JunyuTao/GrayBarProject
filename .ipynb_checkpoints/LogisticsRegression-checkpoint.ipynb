{
 "cells": [
  {
   "cell_type": "code",
   "execution_count": 91,
   "id": "95aecd78",
   "metadata": {},
   "outputs": [],
   "source": [
    "import pandas as pd\n",
    "import numpy as np\n",
    "from sklearn.discriminant_analysis import LinearDiscriminantAnalysis\n",
    "from sklearn.linear_model import LogisticRegression\n",
    "from sklearn.metrics import accuracy_score\n",
    "import statsmodels.api as sm\n",
    "from sklearn.preprocessing import Normalizer\n",
    "from sklearn.model_selection import train_test_split"
   ]
  },
  {
   "cell_type": "code",
   "execution_count": 92,
   "id": "edb46eee",
   "metadata": {},
   "outputs": [
    {
     "data": {
      "text/plain": [
       "Index(['customer_number', 'Division', 'Customer_Type1', 'Customer_Type',\n",
       "       'YearMonth', 'Monthly_SKUs_Purchased', 'Monthly_Vendors_Purchased',\n",
       "       'Monthly_Number_of_Sales', 'Monthly_Last_Sales_Date',\n",
       "       'Monthly_First_Sales_Date', 'Monthly_Sales_Days', 'Monthly_Sum_Sales',\n",
       "       'Monthly_Gross_Margin', 'new_yearMonth', 'difference', 'churn',\n",
       "       'Backlog_Sales'],\n",
       "      dtype='object')"
      ]
     },
     "execution_count": 92,
     "metadata": {},
     "output_type": "execute_result"
    }
   ],
   "source": [
    "df = pd.read_csv('GB_Cleaned_dataset.csv')\n",
    "df.columns"
   ]
  },
  {
   "cell_type": "code",
   "execution_count": 93,
   "id": "511ef009",
   "metadata": {},
   "outputs": [],
   "source": [
    "X = df[['Division', 'Customer_Type', 'Monthly_SKUs_Purchased', 'Monthly_Vendors_Purchased', 'Monthly_Number_of_Sales', 'Monthly_Sales_Days']]\n",
    "Y = df['churn']\n"
   ]
  },
  {
   "cell_type": "code",
   "execution_count": 94,
   "id": "0797adf1",
   "metadata": {},
   "outputs": [],
   "source": [
    "x_train, x_test, y_train, y_test = train_test_split(X, Y, test_size = 0.3, random_state = 4)"
   ]
  },
  {
   "cell_type": "code",
   "execution_count": 95,
   "id": "43278531",
   "metadata": {},
   "outputs": [],
   "source": [
    "x_train= Normalizer().fit(x_train).transform(x_train)\n",
    "x_train= pd.DataFrame(x_train, columns = X.columns)\n",
    "x_test = Normalizer().fit(x_test).transform(x_test)\n",
    "x_test = pd.DataFrame(x_test, columns = X.columns)"
   ]
  },
  {
   "cell_type": "code",
   "execution_count": 96,
   "id": "d27ea94d",
   "metadata": {},
   "outputs": [
    {
     "name": "stderr",
     "output_type": "stream",
     "text": [
      "/Users/jamestao/opt/anaconda3/lib/python3.8/site-packages/statsmodels/tsa/tsatools.py:142: FutureWarning: In a future version of pandas all arguments of concat except for the argument 'objs' will be keyword-only\n",
      "  x = pd.concat(x[::order], 1)\n"
     ]
    },
    {
     "name": "stdout",
     "output_type": "stream",
     "text": [
      "Optimization terminated successfully.\n",
      "         Current function value: 0.639642\n",
      "         Iterations 5\n",
      "                           Logit Regression Results                           \n",
      "==============================================================================\n",
      "Dep. Variable:                      y   No. Observations:               272403\n",
      "Model:                          Logit   Df Residuals:                   272396\n",
      "Method:                           MLE   Df Model:                            6\n",
      "Date:                Mon, 29 Nov 2021   Pseudo R-squ.:                 0.06979\n",
      "Time:                        11:01:12   Log-Likelihood:            -1.7424e+05\n",
      "converged:                       True   LL-Null:                   -1.8731e+05\n",
      "Covariance Type:            nonrobust   LLR p-value:                     0.000\n",
      "=============================================================================================\n",
      "                                coef    std err          z      P>|z|      [0.025      0.975]\n",
      "---------------------------------------------------------------------------------------------\n",
      "const                        -2.0870      0.048    -43.778      0.000      -2.180      -1.994\n",
      "Division                      1.9866      0.036     55.354      0.000       1.916       2.057\n",
      "Customer_Type                 2.5651      0.043     59.043      0.000       2.480       2.650\n",
      "Monthly_SKUs_Purchased        0.3158      0.041      7.728      0.000       0.236       0.396\n",
      "Monthly_Vendors_Purchased     1.2063      0.049     24.427      0.000       1.109       1.303\n",
      "Monthly_Number_of_Sales      -2.1675      0.062    -34.756      0.000      -2.290      -2.045\n",
      "Monthly_Sales_Days            1.5584      0.036     43.532      0.000       1.488       1.629\n",
      "=============================================================================================\n"
     ]
    }
   ],
   "source": [
    "y_train = list(y_train)\n",
    "x_train = sm.add_constant(x_train)\n",
    "LRmodel = sm.Logit(y_train, x_train).fit()\n",
    "print(LRmodel.summary())"
   ]
  },
  {
   "cell_type": "code",
   "execution_count": 97,
   "id": "983e60b6",
   "metadata": {},
   "outputs": [
    {
     "name": "stdout",
     "output_type": "stream",
     "text": [
      "training accuracy is 0.6287999765053982\n",
      "testing accuracy is 0.6289862520878838\n"
     ]
    },
    {
     "name": "stderr",
     "output_type": "stream",
     "text": [
      "/Users/jamestao/opt/anaconda3/lib/python3.8/site-packages/statsmodels/tsa/tsatools.py:142: FutureWarning: In a future version of pandas all arguments of concat except for the argument 'objs' will be keyword-only\n",
      "  x = pd.concat(x[::order], 1)\n"
     ]
    }
   ],
   "source": [
    "y_probs = LRmodel.predict(x_train)\n",
    "y_pred = list(map(round, y_probs))\n",
    "print('training accuracy is',accuracy_score(y_train, y_pred))\n",
    "y_test = list(y_test)\n",
    "x_test = sm.add_constant(x_test)\n",
    "y_probs_test = LRmodel.predict(x_test)\n",
    "y_pred_test = list(map(round, y_probs_test))\n",
    "print('testing accuracy is',accuracy_score(y_test, y_pred_test))"
   ]
  },
  {
   "cell_type": "code",
   "execution_count": null,
   "id": "004c311e",
   "metadata": {},
   "outputs": [],
   "source": []
  }
 ],
 "metadata": {
  "kernelspec": {
   "display_name": "Python 3 (ipykernel)",
   "language": "python",
   "name": "python3"
  },
  "language_info": {
   "codemirror_mode": {
    "name": "ipython",
    "version": 3
   },
   "file_extension": ".py",
   "mimetype": "text/x-python",
   "name": "python",
   "nbconvert_exporter": "python",
   "pygments_lexer": "ipython3",
   "version": "3.8.11"
  }
 },
 "nbformat": 4,
 "nbformat_minor": 5
}
