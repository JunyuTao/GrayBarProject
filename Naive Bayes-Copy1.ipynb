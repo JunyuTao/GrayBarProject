{
 "cells": [
  {
   "cell_type": "code",
   "execution_count": 111,
   "id": "33e3ac67",
   "metadata": {},
   "outputs": [],
   "source": [
    "import numpy as np\n",
    "import pandas as pd\n",
    "from sklearn.model_selection import train_test_split\n",
    "from sklearn.naive_bayes import MultinomialNB, GaussianNB\n",
    "from sklearn.preprocessing import OrdinalEncoder\n",
    "from sklearn.metrics import accuracy_score, roc_curve, roc_auc_score"
   ]
  },
  {
   "cell_type": "code",
   "execution_count": 112,
   "id": "b8720382",
   "metadata": {},
   "outputs": [],
   "source": [
    "df = pd.read_csv('GB_Cleaned_dataset.csv')"
   ]
  },
  {
   "cell_type": "code",
   "execution_count": 113,
   "id": "45555ed2",
   "metadata": {},
   "outputs": [
    {
     "data": {
      "text/plain": [
       "Index(['customer_number', 'Division', 'Customer_Type1', 'Customer_Type',\n",
       "       'YearMonth', 'Monthly_SKUs_Purchased', 'Monthly_Vendors_Purchased',\n",
       "       'Monthly_Number_of_Sales', 'Monthly_Last_Sales_Date',\n",
       "       'Monthly_First_Sales_Date', 'Monthly_Sales_Days', 'Monthly_Sum_Sales',\n",
       "       'Monthly_Gross_Margin', 'new_yearMonth', 'difference', 'churn',\n",
       "       'Backlog_Sales'],\n",
       "      dtype='object')"
      ]
     },
     "execution_count": 113,
     "metadata": {},
     "output_type": "execute_result"
    }
   ],
   "source": [
    "df.columns"
   ]
  },
  {
   "cell_type": "code",
   "execution_count": 114,
   "id": "414b8ca3",
   "metadata": {},
   "outputs": [],
   "source": [
    "X_num = df[['Customer_Type','Division','Monthly_Vendors_Purchased','Monthly_Number_of_Sales']]\n",
    "\n",
    "Y=df['churn']\n",
    "\n",
    "xn_train, xn_test, y_train, y_test = train_test_split(X_num, Y, test_size = 0.3, random_state = 4)"
   ]
  },
  {
   "cell_type": "code",
   "execution_count": 115,
   "id": "9a2505eb",
   "metadata": {},
   "outputs": [],
   "source": [
    "#  'Customer_Type','Division','Monthly_SKUs_Purchased','Monthly_Vendors_Purchased','Monthly_Number_of_Sales'"
   ]
  },
  {
   "cell_type": "code",
   "execution_count": 116,
   "id": "5605c980",
   "metadata": {},
   "outputs": [
    {
     "name": "stdout",
     "output_type": "stream",
     "text": [
      "training accuracy is 0.6012\n",
      "testing accuracy is 0.6025\n"
     ]
    }
   ],
   "source": [
    "# Define & fit the model\n",
    "nb_num = GaussianNB()\n",
    "nb_num.fit(xn_train, y_train)\n",
    "\n",
    "# Create predictions and calculate accuracy for training data\n",
    "y_pred_train = nb_num.predict(xn_train)\n",
    "print('training accuracy is', round(accuracy_score(y_train, y_pred_train),4))\n",
    "\n",
    "# Create predictions and calculate accuracy for testing data\n",
    "y_pred_test = nb_num.predict(xn_test)\n",
    "print('testing accuracy is', round(accuracy_score(y_test, y_pred_test),4))"
   ]
  },
  {
   "cell_type": "code",
   "execution_count": 117,
   "id": "4f9033a6",
   "metadata": {},
   "outputs": [
    {
     "name": "stdout",
     "output_type": "stream",
     "text": [
      "[[24325 40125]\n",
      " [ 6283 46012]]\n"
     ]
    }
   ],
   "source": [
    "from sklearn import metrics\n",
    "print(metrics.confusion_matrix(y_test,y_pred_test))"
   ]
  },
  {
   "cell_type": "code",
   "execution_count": 119,
   "id": "cc923443",
   "metadata": {},
   "outputs": [],
   "source": [
    "from dmba import classificationSummary"
   ]
  },
  {
   "cell_type": "code",
   "execution_count": 120,
   "id": "a6fecf94",
   "metadata": {},
   "outputs": [
    {
     "name": "stdout",
     "output_type": "stream",
     "text": [
      "Confusion Matrix (Accuracy 0.6025)\n",
      "\n",
      "       Prediction\n",
      "Actual     0     1\n",
      "     0 24325 40125\n",
      "     1  6283 46012\n"
     ]
    }
   ],
   "source": [
    "classificationSummary(y_test,y_pred_test)"
   ]
  },
  {
   "cell_type": "code",
   "execution_count": 124,
   "id": "b5311b64",
   "metadata": {},
   "outputs": [],
   "source": [
    "acc = (24325 + 46012)/(46012 + 6283 + 40125 + 24325)\n",
    "sen = 46012/(6283 + 46012)\n",
    "spc = 24325/(24325 + 40125)"
   ]
  },
  {
   "cell_type": "code",
   "execution_count": 126,
   "id": "5710cfc1",
   "metadata": {},
   "outputs": [
    {
     "name": "stdout",
     "output_type": "stream",
     "text": [
      "Testing accuracy score:0.6024840464259711\n",
      "Testing SEN score:0.879854670618606\n",
      "Testing SPC score:0.37742435996896817\n"
     ]
    }
   ],
   "source": [
    "print('Testing accuracy score:' + str(acc))\n",
    "print('Testing SEN score:' + str(sen))\n",
    "print('Testing SPC score:' + str(spc))"
   ]
  },
  {
   "cell_type": "code",
   "execution_count": null,
   "id": "37cc478c",
   "metadata": {},
   "outputs": [],
   "source": []
  },
  {
   "cell_type": "code",
   "execution_count": null,
   "id": "568c5195",
   "metadata": {},
   "outputs": [],
   "source": []
  },
  {
   "cell_type": "code",
   "execution_count": null,
   "id": "ee0002f3",
   "metadata": {},
   "outputs": [],
   "source": []
  },
  {
   "cell_type": "code",
   "execution_count": 102,
   "id": "53092299",
   "metadata": {},
   "outputs": [],
   "source": [
    "import matplotlib.pyplot as plt"
   ]
  },
  {
   "cell_type": "code",
   "execution_count": 103,
   "id": "cbb3d042",
   "metadata": {},
   "outputs": [
    {
     "name": "stdout",
     "output_type": "stream",
     "text": [
      "Naive Bayes with numerical variables: AUC = 0.6864\n"
     ]
    }
   ],
   "source": [
    "# Calculate probabilities for each model\n",
    "num_probs = nb_num.predict_proba(xn_test)\n",
    "\n",
    "# cat_probs and num_probs have 2 columns, one for Prob(Y=0)\n",
    "# and another column for Prob(Y=1) \n",
    "# Keep only the probailities for the positive (Y=1) outcome\n",
    "# so that we can use roc_auc_score with them\n",
    "num_probs = num_probs[:,1]\n",
    "\n",
    "# Calculate area under the ROC curves\n",
    "nbnum_auc = roc_auc_score(y_test, num_probs)\n",
    "print('Naive Bayes with numerical variables: AUC =', round(nbnum_auc,4))"
   ]
  },
  {
   "cell_type": "code",
   "execution_count": 104,
   "id": "12b3231a",
   "metadata": {},
   "outputs": [],
   "source": [
    "# Calculate false positive rate and true positive rate\n",
    "n_fpr, n_tpr, _ = roc_curve(y_test, num_probs)"
   ]
  },
  {
   "cell_type": "code",
   "execution_count": 105,
   "id": "69a390a8",
   "metadata": {},
   "outputs": [
    {
     "data": {
      "image/png": "[encoded data removed]",
      "text/plain": [
       "<Figure size 432x288 with 1 Axes>"
      ]
     },
     "metadata": {
      "needs_background": "light"
     },
     "output_type": "display_data"
    }
   ],
   "source": [
    "# Plot the ROC curve)\n",
    "plt.plot(n_fpr, n_tpr, marker='.', label='NB, Numeric Vars (AUROC = %0.3f)' % nbnum_auc)\n",
    "\n",
    "# Title\n",
    "plt.title('ROC Plot')\n",
    "# Axis labels\n",
    "plt.xlabel('False Positive Rate')\n",
    "plt.ylabel('True Positive Rate')\n",
    "# Show legend\n",
    "plt.legend() # \n",
    "# Show plot\n",
    "plt.show()"
   ]
  },
  {
   "cell_type": "code",
   "execution_count": null,
   "id": "ebb03155",
   "metadata": {},
   "outputs": [],
   "source": []
  },
  {
   "cell_type": "code",
   "execution_count": 106,
   "id": "88db9f1b",
   "metadata": {},
   "outputs": [
    {
     "data": {
      "text/plain": [
       "Index(['Customer_Type', 'Division', 'Monthly_Vendors_Purchased',\n",
       "       'Monthly_Number_of_Sales'],\n",
       "      dtype='object')"
      ]
     },
     "execution_count": 106,
     "metadata": {},
     "output_type": "execute_result"
    }
   ],
   "source": [
    "X_num.columns"
   ]
  },
  {
   "cell_type": "code",
   "execution_count": 107,
   "id": "d43e0c41",
   "metadata": {},
   "outputs": [
    {
     "name": "stderr",
     "output_type": "stream",
     "text": [
      "C:\\Users\\DELL\\anaconda3\\lib\\site-packages\\pandas\\core\\frame.py:3191: SettingWithCopyWarning: \n",
      "A value is trying to be set on a copy of a slice from a DataFrame.\n",
      "Try using .loc[row_indexer,col_indexer] = value instead\n",
      "\n",
      "See the caveats in the documentation: https://pandas.pydata.org/pandas-docs/stable/user_guide/indexing.html#returning-a-view-versus-a-copy\n",
      "  self[k1] = value[k2]\n"
     ]
    },
    {
     "data": {
      "text/plain": [
       "(389148, 4)"
      ]
     },
     "execution_count": 107,
     "metadata": {},
     "output_type": "execute_result"
    }
   ],
   "source": [
    "X = X_num\n",
    "X[['Customer_Type','Division','Monthly_Vendors_Purchased','Monthly_Number_of_Sales']]=X_num\n",
    "np.shape(X)"
   ]
  },
  {
   "cell_type": "code",
   "execution_count": 108,
   "id": "cc34e573",
   "metadata": {},
   "outputs": [],
   "source": [
    "xn_train, xn_test, y_train, y_test = train_test_split(X, Y, test_size = 0.3, random_state = 42)"
   ]
  },
  {
   "cell_type": "code",
   "execution_count": 109,
   "id": "e5d617df",
   "metadata": {},
   "outputs": [],
   "source": [
    "dfout=pd.DataFrame(num_probs, columns=['Num_Prob'])\n",
    "dfout['Y']=pd.DataFrame(list(y_test))\n",
    "dfout['Num_Prob']=pd.DataFrame(num_probs)"
   ]
  },
  {
   "cell_type": "code",
   "execution_count": 110,
   "id": "f73606e6",
   "metadata": {},
   "outputs": [],
   "source": [
    "dfout.to_csv('Naive Bayes model-remove SKUs.csv')"
   ]
  },
  {
   "cell_type": "code",
   "execution_count": null,
   "id": "f29d19e6",
   "metadata": {},
   "outputs": [],
   "source": []
  }
 ],
 "metadata": {
  "kernelspec": {
   "display_name": "Python 3",
   "language": "python",
   "name": "python3"
  },
  "language_info": {
   "codemirror_mode": {
    "name": "ipython",
    "version": 3
   },
   "file_extension": ".py",
   "mimetype": "text/x-python",
   "name": "python",
   "nbconvert_exporter": "python",
   "pygments_lexer": "ipython3",
   "version": "3.8.8"
  }
 },
 "nbformat": 4,
 "nbformat_minor": 5
}
